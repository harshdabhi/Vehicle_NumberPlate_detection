{
 "cells": [
  {
   "cell_type": "code",
   "execution_count": 1,
   "metadata": {},
   "outputs": [
    {
     "name": "stderr",
     "output_type": "stream",
     "text": [
      "Using CPU. Note: This module is much faster with a GPU.\n"
     ]
    }
   ],
   "source": [
    "# Installing necessary libraries and dependencies\n",
    "\n",
    "from tracking.sort import *\n",
    "from ultralytics import YOLO\n",
    "import cv2\n",
    "import matplotlib.pyplot as plt\n",
    "from utils import get_car,read_license_plate,write_csv\n",
    "from PIL import Image\n",
    "from storing_data.data_store import add_result_to_buffer\n",
    "%matplotlib inline\n"
   ]
  },
  {
   "cell_type": "code",
   "execution_count": 4,
   "metadata": {},
   "outputs": [
    {
     "ename": "FileNotFoundError",
     "evalue": "'yolov8n.onnx' does not exist",
     "output_type": "error",
     "traceback": [
      "\u001b[0;31m---------------------------------------------------------------------------\u001b[0m",
      "\u001b[0;31mFileNotFoundError\u001b[0m                         Traceback (most recent call last)",
      "\u001b[1;32m/Users/phoenixonwork/Documents/coding/projects/Data_science_project/Number_plate_detection/Vehicle_NumberPlate_detection/test.ipynb Cell 3\u001b[0m line \u001b[0;36m3\n\u001b[1;32m      <a href='vscode-notebook-cell:/Users/phoenixonwork/Documents/coding/projects/Data_science_project/Number_plate_detection/Vehicle_NumberPlate_detection/test.ipynb#W2sZmlsZQ%3D%3D?line=0'>1</a>\u001b[0m \u001b[39m#loading Trained Model for vehicle detection/plate detection/vehicle tracking\u001b[39;00m\n\u001b[0;32m----> <a href='vscode-notebook-cell:/Users/phoenixonwork/Documents/coding/projects/Data_science_project/Number_plate_detection/Vehicle_NumberPlate_detection/test.ipynb#W2sZmlsZQ%3D%3D?line=2'>3</a>\u001b[0m vehicle_detect_model\u001b[39m=\u001b[39mYOLO(\u001b[39m'\u001b[39;49m\u001b[39myolov8n.onnx\u001b[39;49m\u001b[39m'\u001b[39;49m)\n\u001b[1;32m      <a href='vscode-notebook-cell:/Users/phoenixonwork/Documents/coding/projects/Data_science_project/Number_plate_detection/Vehicle_NumberPlate_detection/test.ipynb#W2sZmlsZQ%3D%3D?line=4'>5</a>\u001b[0m number_plate_detect_model\u001b[39m=\u001b[39mYOLO(\u001b[39m'\u001b[39m\u001b[39m./number_plate_detection/models/best.pt\u001b[39m\u001b[39m'\u001b[39m)\n\u001b[1;32m      <a href='vscode-notebook-cell:/Users/phoenixonwork/Documents/coding/projects/Data_science_project/Number_plate_detection/Vehicle_NumberPlate_detection/test.ipynb#W2sZmlsZQ%3D%3D?line=6'>7</a>\u001b[0m vehicle_tracking_model\u001b[39m=\u001b[39mSort()\n",
      "File \u001b[0;32m~/anaconda3/envs/tfod/lib/python3.10/site-packages/ultralytics/engine/model.py:97\u001b[0m, in \u001b[0;36mModel.__init__\u001b[0;34m(self, model, task)\u001b[0m\n\u001b[1;32m     95\u001b[0m     \u001b[39mself\u001b[39m\u001b[39m.\u001b[39m_new(model, task)\n\u001b[1;32m     96\u001b[0m \u001b[39melse\u001b[39;00m:\n\u001b[0;32m---> 97\u001b[0m     \u001b[39mself\u001b[39;49m\u001b[39m.\u001b[39;49m_load(model, task)\n",
      "File \u001b[0;32m~/anaconda3/envs/tfod/lib/python3.10/site-packages/ultralytics/engine/model.py:154\u001b[0m, in \u001b[0;36mModel._load\u001b[0;34m(self, weights, task)\u001b[0m\n\u001b[1;32m    152\u001b[0m     \u001b[39mself\u001b[39m\u001b[39m.\u001b[39mckpt_path \u001b[39m=\u001b[39m \u001b[39mself\u001b[39m\u001b[39m.\u001b[39mmodel\u001b[39m.\u001b[39mpt_path\n\u001b[1;32m    153\u001b[0m \u001b[39melse\u001b[39;00m:\n\u001b[0;32m--> 154\u001b[0m     weights \u001b[39m=\u001b[39m checks\u001b[39m.\u001b[39;49mcheck_file(weights)\n\u001b[1;32m    155\u001b[0m     \u001b[39mself\u001b[39m\u001b[39m.\u001b[39mmodel, \u001b[39mself\u001b[39m\u001b[39m.\u001b[39mckpt \u001b[39m=\u001b[39m weights, \u001b[39mNone\u001b[39;00m\n\u001b[1;32m    156\u001b[0m     \u001b[39mself\u001b[39m\u001b[39m.\u001b[39mtask \u001b[39m=\u001b[39m task \u001b[39mor\u001b[39;00m guess_model_task(weights)\n",
      "File \u001b[0;32m~/anaconda3/envs/tfod/lib/python3.10/site-packages/ultralytics/utils/checks.py:447\u001b[0m, in \u001b[0;36mcheck_file\u001b[0;34m(file, suffix, download, hard)\u001b[0m\n\u001b[1;32m    445\u001b[0m files \u001b[39m=\u001b[39m glob\u001b[39m.\u001b[39mglob(\u001b[39mstr\u001b[39m(ROOT \u001b[39m/\u001b[39m \u001b[39m'\u001b[39m\u001b[39mcfg\u001b[39m\u001b[39m'\u001b[39m \u001b[39m/\u001b[39m \u001b[39m'\u001b[39m\u001b[39m**\u001b[39m\u001b[39m'\u001b[39m \u001b[39m/\u001b[39m file), recursive\u001b[39m=\u001b[39m\u001b[39mTrue\u001b[39;00m)  \u001b[39m# find file\u001b[39;00m\n\u001b[1;32m    446\u001b[0m \u001b[39mif\u001b[39;00m \u001b[39mnot\u001b[39;00m files \u001b[39mand\u001b[39;00m hard:\n\u001b[0;32m--> 447\u001b[0m     \u001b[39mraise\u001b[39;00m \u001b[39mFileNotFoundError\u001b[39;00m(\u001b[39mf\u001b[39m\u001b[39m\"\u001b[39m\u001b[39m'\u001b[39m\u001b[39m{\u001b[39;00mfile\u001b[39m}\u001b[39;00m\u001b[39m'\u001b[39m\u001b[39m does not exist\u001b[39m\u001b[39m\"\u001b[39m)\n\u001b[1;32m    448\u001b[0m \u001b[39melif\u001b[39;00m \u001b[39mlen\u001b[39m(files) \u001b[39m>\u001b[39m \u001b[39m1\u001b[39m \u001b[39mand\u001b[39;00m hard:\n\u001b[1;32m    449\u001b[0m     \u001b[39mraise\u001b[39;00m \u001b[39mFileNotFoundError\u001b[39;00m(\u001b[39mf\u001b[39m\u001b[39m\"\u001b[39m\u001b[39mMultiple files match \u001b[39m\u001b[39m'\u001b[39m\u001b[39m{\u001b[39;00mfile\u001b[39m}\u001b[39;00m\u001b[39m'\u001b[39m\u001b[39m, specify exact path: \u001b[39m\u001b[39m{\u001b[39;00mfiles\u001b[39m}\u001b[39;00m\u001b[39m\"\u001b[39m)\n",
      "\u001b[0;31mFileNotFoundError\u001b[0m: 'yolov8n.onnx' does not exist"
     ]
    }
   ],
   "source": [
    "\n",
    "#loading Trained Model for vehicle detection/plate detection/vehicle tracking\n",
    "\n",
    "vehicle_detect_model=YOLO('yolov8n.onnx')\n",
    "\n",
    "number_plate_detect_model=YOLO('./number_plate_detection/models/best.pt')\n",
    "\n",
    "vehicle_tracking_model=Sort()\n",
    "\n",
    "#loading video file (mention path) / real time mention (0 in cv2.VideoCapture)\n",
    "\n",
    "video=cv2.VideoCapture('./videos/sample3.mp4')\n",
    "\n",
    "\n",
    "results = {}\n",
    "ret=True\n",
    "frame_no=-1\n",
    "vehicle_classid=[0,1,2,3,4]\n",
    "\n",
    "while ret:\n",
    "    ret,frame=video.read()\n",
    "    if ret:\n",
    "        results[frame_no] = {}\n",
    "        # first detecting vehicles and getting bounding boxes\n",
    "        vehicle_detection=vehicle_detect_model(frame)[0]\n",
    "        detection_=[]\n",
    "        for detection in vehicle_detection.boxes.data.tolist():\n",
    "            x1, y1, x2, y2, score, class_id = detection\n",
    "\n",
    "            if class_id in vehicle_classid:\n",
    "                detection_.append([x1,y1,x2,y2,score])\n",
    "        \n",
    "\n",
    "        ###### To visualise the detection of vehicles from various frame ######\n",
    "\n",
    "            if score>0.3:\n",
    "                detection_.append(((int(x1),int(y1)),(int(x2),int(y2))))\n",
    "\n",
    "        for i in detection_:\n",
    "            cv2.rectangle(frame,i[0],i[1],(0,255,0))\n",
    "        cv2.imshow('test',frame)\n"
   ]
  },
  {
   "cell_type": "code",
   "execution_count": null,
   "metadata": {},
   "outputs": [],
   "source": []
  }
 ],
 "metadata": {
  "kernelspec": {
   "display_name": "tfod",
   "language": "python",
   "name": "python3"
  },
  "language_info": {
   "codemirror_mode": {
    "name": "ipython",
    "version": 3
   },
   "file_extension": ".py",
   "mimetype": "text/x-python",
   "name": "python",
   "nbconvert_exporter": "python",
   "pygments_lexer": "ipython3",
   "version": "3.10.13"
  },
  "orig_nbformat": 4
 },
 "nbformat": 4,
 "nbformat_minor": 2
}
