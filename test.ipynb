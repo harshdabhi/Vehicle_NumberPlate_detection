{
 "cells": [
  {
   "cell_type": "code",
   "execution_count": 2,
   "metadata": {},
   "outputs": [
    {
     "name": "stderr",
     "output_type": "stream",
     "text": [
      "Using CPU. Note: This module is much faster with a GPU.\n"
     ]
    }
   ],
   "source": [
    "# Installing necessary libraries and dependencies\n",
    "\n",
    "from tracking.sort import *\n",
    "from ultralytics import YOLO\n",
    "import cv2\n",
    "import matplotlib.pyplot as plt\n",
    "from utils import get_car,read_license_plate,write_csv\n",
    "from PIL import Image\n",
    "%matplotlib inline\n"
   ]
  },
  {
   "cell_type": "code",
   "execution_count": 12,
   "metadata": {},
   "outputs": [
    {
     "name": "stderr",
     "output_type": "stream",
     "text": [
      "\n",
      "0: 384x640 1 person, 1 car, 1 bus, 3 trucks, 20.4ms\n",
      "Speed: 2.4ms preprocess, 20.4ms inference, 3.2ms postprocess per image at shape (1, 3, 384, 640)\n",
      "\n",
      "0: 384x640 1 license, 18.8ms\n",
      "Speed: 1.8ms preprocess, 18.8ms inference, 3.0ms postprocess per image at shape (1, 3, 384, 640)\n"
     ]
    },
    {
     "ename": "error",
     "evalue": "OpenCV(4.7.0) /Users/xperience/GHA-OCV-Python/_work/opencv-python/opencv-python/opencv/modules/imgproc/src/color.cpp:182: error: (-215:Assertion failed) !_src.empty() in function 'cvtColor'\n",
     "output_type": "error",
     "traceback": [
      "\u001b[0;31m---------------------------------------------------------------------------\u001b[0m",
      "\u001b[0;31merror\u001b[0m                                     Traceback (most recent call last)",
      "\u001b[1;32m/Users/phoenixonwork/Documents/coding/projects/Data_science_project/Number_plate_detection/Vehicle_NumberPlate_detection/test.ipynb Cell 2\u001b[0m line \u001b[0;36m7\n\u001b[1;32m     <a href='vscode-notebook-cell:/Users/phoenixonwork/Documents/coding/projects/Data_science_project/Number_plate_detection/Vehicle_NumberPlate_detection/test.ipynb#W1sZmlsZQ%3D%3D?line=71'>72</a>\u001b[0m license_plate_crop \u001b[39m=\u001b[39m frame[\u001b[39mint\u001b[39m(y1):\u001b[39mint\u001b[39m(y2), \u001b[39mint\u001b[39m(x1): \u001b[39mint\u001b[39m(x2), :]\n\u001b[1;32m     <a href='vscode-notebook-cell:/Users/phoenixonwork/Documents/coding/projects/Data_science_project/Number_plate_detection/Vehicle_NumberPlate_detection/test.ipynb#W1sZmlsZQ%3D%3D?line=73'>74</a>\u001b[0m \u001b[39m# process license plate\u001b[39;00m\n\u001b[0;32m---> <a href='vscode-notebook-cell:/Users/phoenixonwork/Documents/coding/projects/Data_science_project/Number_plate_detection/Vehicle_NumberPlate_detection/test.ipynb#W1sZmlsZQ%3D%3D?line=75'>76</a>\u001b[0m license_plate_crop_gray \u001b[39m=\u001b[39m cv2\u001b[39m.\u001b[39;49mcvtColor(license_plate_crop, cv2\u001b[39m.\u001b[39;49mCOLOR_BGR2GRAY)\n\u001b[1;32m     <a href='vscode-notebook-cell:/Users/phoenixonwork/Documents/coding/projects/Data_science_project/Number_plate_detection/Vehicle_NumberPlate_detection/test.ipynb#W1sZmlsZQ%3D%3D?line=76'>77</a>\u001b[0m _, license_plate_crop_thresh \u001b[39m=\u001b[39m cv2\u001b[39m.\u001b[39mthreshold(license_plate_crop_gray, \u001b[39m120\u001b[39m, \u001b[39m255\u001b[39m, cv2\u001b[39m.\u001b[39mTHRESH_BINARY_INV)\n\u001b[1;32m     <a href='vscode-notebook-cell:/Users/phoenixonwork/Documents/coding/projects/Data_science_project/Number_plate_detection/Vehicle_NumberPlate_detection/test.ipynb#W1sZmlsZQ%3D%3D?line=80'>81</a>\u001b[0m \u001b[39m# read license plate number\u001b[39;00m\n",
      "\u001b[0;31merror\u001b[0m: OpenCV(4.7.0) /Users/xperience/GHA-OCV-Python/_work/opencv-python/opencv-python/opencv/modules/imgproc/src/color.cpp:182: error: (-215:Assertion failed) !_src.empty() in function 'cvtColor'\n"
     ]
    }
   ],
   "source": [
    "\n",
    "#loading Trained Model for vehicle detection/plate detection/vehicle tracking\n",
    "\n",
    "vehicle_detect_model=YOLO('./vehicle_detection/models/yolov8n.pt')\n",
    "\n",
    "number_plate_detect_model=YOLO('./number_plate_detection/models/best.pt')\n",
    "\n",
    "vehicle_tracking_model=Sort()\n",
    "\n",
    "#loading video file (mention path) / real time mention (0 in cv2.VideoCapture)\n",
    "\n",
    "video=cv2.VideoCapture('./videos/sample3.mp4')\n",
    "\n",
    "\n",
    "results = {}\n",
    "ret=True\n",
    "frame_no=-1\n",
    "vehicle_classid=[0,1,2,3,4]\n",
    "\n",
    "while ret:\n",
    "    ret,frame=video.read()\n",
    "    if ret:\n",
    "        results[frame_no] = {}\n",
    "        # first detecting vehicles and getting bounding boxes\n",
    "        vehicle_detection=vehicle_detect_model(frame)[0]\n",
    "        detection_=[]\n",
    "        for detection in vehicle_detection.boxes.data.tolist():\n",
    "            x1, y1, x2, y2, score, class_id = detection\n",
    "\n",
    "            if class_id in vehicle_classid:\n",
    "                detection_.append([x1,y1,x2,y2,score])\n",
    "        \n",
    "\n",
    "        ###### To visualise the detection of vehicles from various frame ######\n",
    "\n",
    "            # if score>0.3:\n",
    "            #     detection_.append(((int(x1),int(y1)),(int(x2),int(y2))))\n",
    "\n",
    "        # for i in detection_:\n",
    "        #     cv2.rectangle(frame,i[0],i[1],(0,255,0))\n",
    "        # cv2.imshow('test',frame)\n",
    "\n",
    "\n",
    "        #######################################################################\n",
    "\n",
    "        ###  tracking vehicles ####\n",
    "        \n",
    "        vehicle_tracking=vehicle_tracking_model.update(np.asarray(detection_))\n",
    "\n",
    "        ## second detecting number plates and getting bounding boxes\n",
    "\n",
    "\n",
    "        number_plate_detection=number_plate_detect_model(frame)[0]\n",
    "        for license_plate in number_plate_detection.boxes.data.tolist():    \n",
    "            x1, y1, x2, y2, score, class_id = license_plate\n",
    "        \n",
    "\n",
    "        #### To visualise the detection of number plates from various frame ######\n",
    "        #     cv2.rectangle(frame,(int(x1),int(y1)),(int(x2),int(y2)),(0,255,0))\n",
    "        # cv2.imshow('test',frame)\n",
    "        # cv2.waitKey(1)\n",
    "        # cv2.destroyAllWindows()\n",
    "        # break\n",
    "\n",
    "        ######################################################################\n",
    "       \n",
    "\n",
    "\n",
    "            xcar1, ycar1, xcar2, ycar2, car_id = get_car(license_plate, vehicle_tracking)\n",
    "            if car_id != -1:\n",
    "\n",
    "                # crop license plate\n",
    "                license_plate_crop = frame[int(y1):int(y2), int(x1): int(x2), :]\n",
    "\n",
    "                # process license plate\n",
    "                license_plate_crop_gray = cv2.cvtColor(license_plate_crop, cv2.COLOR_BGR2GRAY)\n",
    "                _, license_plate_crop_thresh = cv2.threshold(license_plate_crop_gray, 120, 255, cv2.THRESH_BINARY_INV)\n",
    "                \n",
    "                \n",
    "\n",
    "                # read license plate number\n",
    "                license_plate_text, license_plate_text_score = read_license_plate(license_plate_crop_thresh)\n",
    "\n",
    "\n",
    "                ####### To visualise the detection of number plates and vehicles from various frame ######\n",
    "\n",
    "                cv2.rectangle(frame,(int(x1),int(y1)),(int(x2),int(y2)),(0,255,0),thickness=5)\n",
    "                cv2.rectangle(frame,(int(xcar1),int(ycar1)),(int(xcar2),int(ycar2)),(0,255,0),thickness=5)\n",
    "                cv2.imshow('output',frame)\n",
    "            \n",
    "\n",
    "\n",
    "\n",
    "                # # if license_plate_text_score !=[]:\n",
    "                # results[frame_no][car_id] = {'car': {'bbox': [xcar1, ycar1, xcar2, ycar2]},\n",
    "                #                                 'license_plate': {'bbox': [x1, y1, x2, y2],\n",
    "                #                                                 'text': license_plate_text,\n",
    "                #                                                 'bbox_score': score,\n",
    "                #                                                 'text_score': license_plate_text_score}}\n",
    "                \n",
    "    \n",
    "        cv2.waitKey(1)\n",
    "        \n",
    "\n",
    "        frame_no+=1\n",
    "\n",
    "#write_csv(results, './test.csv')\n",
    "\n",
    "cv2.destroyAllWindows()\n",
    "video.release()\n",
    "\n",
    "\n",
    "\n",
    "        \n",
    "\n",
    "    \n",
    "\n",
    "        \n",
    "\n",
    "\n",
    "\n",
    " "
   ]
  },
  {
   "cell_type": "code",
   "execution_count": null,
   "metadata": {},
   "outputs": [
    {
     "data": {
      "text/plain": [
       "True"
      ]
     },
     "execution_count": 1,
     "metadata": {},
     "output_type": "execute_result"
    }
   ],
   "source": [
    "import torch\n",
    "torch.backends.mps.is_built()"
   ]
  },
  {
   "cell_type": "code",
   "execution_count": null,
   "metadata": {},
   "outputs": [],
   "source": []
  }
 ],
 "metadata": {
  "kernelspec": {
   "display_name": "tfod",
   "language": "python",
   "name": "python3"
  },
  "language_info": {
   "codemirror_mode": {
    "name": "ipython",
    "version": 3
   },
   "file_extension": ".py",
   "mimetype": "text/x-python",
   "name": "python",
   "nbconvert_exporter": "python",
   "pygments_lexer": "ipython3",
   "version": "3.10.13"
  },
  "orig_nbformat": 4
 },
 "nbformat": 4,
 "nbformat_minor": 2
}
